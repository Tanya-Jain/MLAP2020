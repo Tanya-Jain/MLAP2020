{
 "cells": [
  {
   "cell_type": "code",
   "execution_count": 1,
   "metadata": {},
   "outputs": [],
   "source": [
    "# keyboard shortcuts:\n",
    "# ESC+M+ENTER command mode or markdown.\n",
    "# ESC+Y+ENTER edit mode or code mode or CODE CELL."
   ]
  },
  {
   "cell_type": "markdown",
   "metadata": {},
   "source": [
    "# CONDITIONAL STATEMENTS"
   ]
  },
  {
   "cell_type": "code",
   "execution_count": 2,
   "metadata": {},
   "outputs": [
    {
     "name": "stdout",
     "output_type": "stream",
     "text": [
      "VARIABLE 1 IS A BIGGER NUMBER\n"
     ]
    }
   ],
   "source": [
    "var1 = 3\n",
    "var2 = 5.0\n",
    "\n",
    "if var1>1:\n",
    "    print(\"VARIABLE 1 IS A BIGGER NUMBER\")\n",
    "else:\n",
    "    print(\"VARIABLE 1 IS NOT A BIGGER NUMBER\")"
   ]
  },
  {
   "cell_type": "code",
   "execution_count": 3,
   "metadata": {},
   "outputs": [
    {
     "name": "stdout",
     "output_type": "stream",
     "text": [
      "BIGGER\n"
     ]
    }
   ],
   "source": [
    "if var1>1:\n",
    "    print(\"BIGGER\")\n",
    "else:\n",
    "    print(\"SMALLER\")"
   ]
  },
  {
   "cell_type": "code",
   "execution_count": 4,
   "metadata": {},
   "outputs": [
    {
     "name": "stdout",
     "output_type": "stream",
     "text": [
      "SMALLER\n"
     ]
    }
   ],
   "source": [
    "var1 = 0\n",
    "\n",
    "if var1>1:\n",
    "    print(\"BIGGER\")\n",
    "else:\n",
    "    print(\"SMALLER\")"
   ]
  },
  {
   "cell_type": "code",
   "execution_count": 6,
   "metadata": {},
   "outputs": [
    {
     "name": "stdout",
     "output_type": "stream",
     "text": [
      "X GREATER THAN Y\n"
     ]
    }
   ],
   "source": [
    "x = 20\n",
    "y = 12\n",
    "if x>y:\n",
    "    print(\"X GREATER THAN Y\")\n",
    "elif x<y:\n",
    "    print(\"X LESSER THAN Y\")\n",
    "else:\n",
    "    print(\"X IS EQUAL TO Y\")"
   ]
  },
  {
   "cell_type": "code",
   "execution_count": 7,
   "metadata": {},
   "outputs": [
    {
     "name": "stdout",
     "output_type": "stream",
     "text": [
      "number : 20\n",
      "number : 20\n",
      "X IS EQUAL TO Y\n"
     ]
    }
   ],
   "source": [
    "x = int(input(\"number : \"))\n",
    "y = int(input(\"number : \"))\n",
    "if x>y:\n",
    "    print(\"X GREATER THAN Y\")\n",
    "elif x<y:\n",
    "    print(\"X LESSER THAN Y\")\n",
    "else:\n",
    "    print(\"X IS EQUAL TO Y\")"
   ]
  },
  {
   "cell_type": "code",
   "execution_count": 8,
   "metadata": {},
   "outputs": [
    {
     "name": "stdout",
     "output_type": "stream",
     "text": [
      "X LESSER THAN Y\n"
     ]
    }
   ],
   "source": [
    "x = 10\n",
    "y = 12\n",
    "if x>y:\n",
    "    print(\"X GREATER THAN Y\")\n",
    "elif x<y:\n",
    "    print(\"X LESSER THAN Y\")\n",
    "else:\n",
    "    print(\"X IS EQUAL TO Y\")"
   ]
  },
  {
   "cell_type": "markdown",
   "metadata": {},
   "source": [
    "# Inline conditional statements\n"
   ]
  },
  {
   "cell_type": "code",
   "execution_count": 13,
   "metadata": {},
   "outputs": [],
   "source": [
    "a = 0 if x>10 else 1"
   ]
  },
  {
   "cell_type": "code",
   "execution_count": 11,
   "metadata": {},
   "outputs": [
    {
     "data": {
      "text/plain": [
       "1"
      ]
     },
     "execution_count": 11,
     "metadata": {},
     "output_type": "execute_result"
    }
   ],
   "source": [
    "a"
   ]
  },
  {
   "cell_type": "code",
   "execution_count": 19,
   "metadata": {},
   "outputs": [],
   "source": [
    "x=11 "
   ]
  },
  {
   "cell_type": "code",
   "execution_count": 20,
   "metadata": {},
   "outputs": [],
   "source": [
    "a = 0 if x>10 else 1"
   ]
  },
  {
   "cell_type": "code",
   "execution_count": 21,
   "metadata": {},
   "outputs": [
    {
     "data": {
      "text/plain": [
       "0"
      ]
     },
     "execution_count": 21,
     "metadata": {},
     "output_type": "execute_result"
    }
   ],
   "source": [
    "a"
   ]
  },
  {
   "cell_type": "code",
   "execution_count": 1,
   "metadata": {},
   "outputs": [
    {
     "name": "stdout",
     "output_type": "stream",
     "text": [
      "1\n"
     ]
    }
   ],
   "source": [
    "x=5\n",
    "a=0 if x>10 else 1\n",
    "print(a)"
   ]
  },
  {
   "cell_type": "markdown",
   "metadata": {},
   "source": [
    "# CONTROL FLOW STATEMENTS"
   ]
  },
  {
   "cell_type": "code",
   "execution_count": 3,
   "metadata": {},
   "outputs": [
    {
     "name": "stdout",
     "output_type": "stream",
     "text": [
      "1\n",
      "2\n",
      "3\n",
      "4\n",
      "BYE\n"
     ]
    }
   ],
   "source": [
    "i = 1\n",
    "while i<5:\n",
    "    print(i)\n",
    "    i=i+1\n",
    "print(\"BYE\")    "
   ]
  },
  {
   "cell_type": "code",
   "execution_count": 2,
   "metadata": {},
   "outputs": [
    {
     "name": "stdout",
     "output_type": "stream",
     "text": [
      "0\n",
      "1\n",
      "2\n",
      "3\n",
      "4\n"
     ]
    }
   ],
   "source": [
    "for i in range (5):\n",
    "    print(i)"
   ]
  },
  {
   "cell_type": "code",
   "execution_count": 4,
   "metadata": {},
   "outputs": [
    {
     "name": "stdout",
     "output_type": "stream",
     "text": [
      "1\n",
      "2\n",
      "3\n",
      "Bye\n"
     ]
    }
   ],
   "source": [
    "i = 1\n",
    "while i < 5 :\n",
    "    print (i)\n",
    "    i = i+1\n",
    "    if i == 4:\n",
    "        break\n",
    "print ('Bye')"
   ]
  },
  {
   "cell_type": "code",
   "execution_count": 5,
   "metadata": {},
   "outputs": [
    {
     "name": "stdout",
     "output_type": "stream",
     "text": [
      "1\n",
      "2\n",
      "3\n",
      "Bye\n"
     ]
    }
   ],
   "source": [
    "i = 1\n",
    "while i < 5 :\n",
    "    print (i)\n",
    "    i = i+1\n",
    "    if i == 4:\n",
    "        print ('Bye')\n",
    "        break\n"
   ]
  },
  {
   "cell_type": "code",
   "execution_count": null,
   "metadata": {},
   "outputs": [],
   "source": []
  }
 ],
 "metadata": {
  "kernelspec": {
   "display_name": "Python 3",
   "language": "python",
   "name": "python3"
  },
  "language_info": {
   "codemirror_mode": {
    "name": "ipython",
    "version": 3
   },
   "file_extension": ".py",
   "mimetype": "text/x-python",
   "name": "python",
   "nbconvert_exporter": "python",
   "pygments_lexer": "ipython3",
   "version": "3.7.6"
  }
 },
 "nbformat": 4,
 "nbformat_minor": 4
}
